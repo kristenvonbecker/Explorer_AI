{
 "cells": [
  {
   "cell_type": "code",
   "execution_count": 18,
   "id": "ae77c1b2",
   "metadata": {
    "pycharm": {
     "name": "#%%\n"
    }
   },
   "outputs": [],
   "source": [
    "import pandas as pd\n",
    "import os"
   ]
  },
  {
   "cell_type": "code",
   "execution_count": 19,
   "id": "87077b87",
   "metadata": {
    "pycharm": {
     "name": "#%%\n"
    }
   },
   "outputs": [],
   "source": [
    "def split_fields(json_file_path, grouping, fields):\n",
    "    df = pd.read_json(json_file_path)\n",
    "    for field in fields:\n",
    "        screen = df[field] != ''\n",
    "        data = df[['id', field]][screen]\n",
    "        for i in range(len(data)):\n",
    "            id = data['id'].iloc[i]\n",
    "            path = os.path.join('data/split_data', grouping, field)\n",
    "            if not os.path.exists(path):\n",
    "                os.makedirs(path)\n",
    "            filename = os.path.join(path, id + '.txt')\n",
    "            with open(filename, 'w') as f:\n",
    "                f.write(data[field].iloc[i])"
   ]
  },
  {
   "cell_type": "code",
   "execution_count": 20,
   "id": "aba8dc9c",
   "metadata": {
    "pycharm": {
     "name": "#%%\n"
    }
   },
   "outputs": [],
   "source": [
    "split_fields('data/scraped_data/exhibits.json', 'exhibits',\n",
    "           ['tagline', 'byline', 'description', 'whats_going_on', 'going_further', 'details'])"
   ]
  },
  {
   "cell_type": "code",
   "execution_count": 21,
   "id": "53c071b8",
   "metadata": {
    "pycharm": {
     "name": "#%%\n"
    }
   },
   "outputs": [],
   "source": [
    "split_fields('data/scraped_data/galleries.json', 'galleries', ['tagline', 'description', 'curator_statement'])"
   ]
  }
 ],
 "metadata": {
  "kernelspec": {
   "display_name": "Python 3 (ipykernel)",
   "language": "python",
   "name": "python3"
  },
  "language_info": {
   "codemirror_mode": {
    "name": "ipython",
    "version": 3
   },
   "file_extension": ".py",
   "mimetype": "text/x-python",
   "name": "python",
   "nbconvert_exporter": "python",
   "pygments_lexer": "ipython3",
   "version": "3.10.4"
  }
 },
 "nbformat": 4,
 "nbformat_minor": 5
}