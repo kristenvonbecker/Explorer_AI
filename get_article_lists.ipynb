{
 "cells": [
  {
   "cell_type": "code",
   "execution_count": 1,
   "metadata": {
    "collapsed": true,
    "pycharm": {
     "name": "#%%\n"
    }
   },
   "outputs": [],
   "source": [
    "import requests\n",
    "import os\n",
    "import json\n",
    "from dotenv import load_dotenv\n",
    "load_dotenv();"
   ]
  },
  {
   "cell_type": "code",
   "execution_count": 2,
   "outputs": [],
   "source": [
    "# get list of all advanced articles from the EB API\n",
    "\n",
    "articles_adv = []\n",
    "\n",
    "for i in range(88):  # there are more than 87K articles in the advanced encyclopedia\n",
    "    url = 'https://syndication.api.eb.com/production/articles?articleTypeId=1&page=' + str(i+1)\n",
    "    headers = {'x-api-key': os.getenv('EB_API_KEY_ADV'), 'content-type': 'application/json'}\n",
    "    response = requests.get(url, headers=headers)\n",
    "    these_articles = json.loads(response.text)['articles']\n",
    "    articles_adv += these_articles\n",
    "\n",
    "# save results in a json file\n",
    "\n",
    "path = 'data/articles'\n",
    "if not os.path.exists(path):\n",
    "    os.makedirs(path)\n",
    "\n",
    "filepath = os.path.join(path, 'advanced.json')\n",
    "if os.path.exists(filepath):\n",
    "    os.remove(filepath)\n",
    "\n",
    "with open(filepath, 'w') as file:\n",
    "    json.dump(articles_adv, file, indent=2)"
   ],
   "metadata": {
    "collapsed": false,
    "pycharm": {
     "name": "#%%\n"
    }
   }
  },
  {
   "cell_type": "code",
   "execution_count": 3,
   "outputs": [
    {
     "name": "stdout",
     "output_type": "stream",
     "text": [
      "There are 88000 articles in the advanced encyclopedia\n"
     ]
    }
   ],
   "source": [
    "print('There are {} articles in the advanced encyclopedia'.format(len(articles_adv)))\n",
    "\n",
    "# this count isn't accurate -- why??"
   ],
   "metadata": {
    "collapsed": false,
    "pycharm": {
     "name": "#%%\n"
    }
   }
  },
  {
   "cell_type": "code",
   "execution_count": 10,
   "outputs": [],
   "source": [
    "# get list of all intermediate articles from the EB API\n",
    "\n",
    "articles_int = []\n",
    "\n",
    "for i in range(23):  # there are more than 22K articles in the intermediate encyclopedia\n",
    "    url = 'https://syndication.api.eb.com/production/articles?articleTypeId=31&page=' + str(i+1)\n",
    "    headers = {'x-api-key': os.getenv('EB_API_KEY_INT'), 'content-type': 'application/json'}\n",
    "    response = requests.get(url, headers=headers)\n",
    "    these_articles = json.loads(response.text)['articles']\n",
    "    articles_int += these_articles\n",
    "\n",
    "# save results in a json file\n",
    "\n",
    "path = 'data/articles'\n",
    "if not os.path.exists(path):\n",
    "    os.makedirs(path)\n",
    "\n",
    "filepath = os.path.join(path, 'intermediate.json')\n",
    "if os.path.exists(filepath):\n",
    "    os.remove(filepath)\n",
    "\n",
    "with open(filepath, 'w') as file:\n",
    "    json.dump(articles_int, file, indent=2)"
   ],
   "metadata": {
    "collapsed": false,
    "pycharm": {
     "name": "#%%\n"
    }
   }
  },
  {
   "cell_type": "code",
   "execution_count": 9,
   "outputs": [
    {
     "name": "stdout",
     "output_type": "stream",
     "text": [
      "There are 22487 articles in the intermediate encyclopedia\n"
     ]
    }
   ],
   "source": [
    "print('There are {} articles in the intermediate encyclopedia'.format(len(articles_int)))"
   ],
   "metadata": {
    "collapsed": false,
    "pycharm": {
     "name": "#%%\n"
    }
   }
  },
  {
   "cell_type": "code",
   "execution_count": 11,
   "outputs": [],
   "source": [
    "# get list of all concise articles from the EB API\n",
    "\n",
    "articles_con = []\n",
    "\n",
    "for i in range(26):  # there are more than 25K articles in the concise encyclopedia\n",
    "    url = 'https://syndication.api.eb.com/production/articles?articleTypeId=45&page=' + str(i+1)\n",
    "    headers = {'x-api-key': os.getenv('EB_API_KEY_CON'), 'content-type': 'application/json'}\n",
    "    response = requests.get(url, headers=headers)\n",
    "    these_articles = json.loads(response.text)['articles']\n",
    "    articles_con += these_articles\n",
    "\n",
    "# save results to a json file\n",
    "\n",
    "path = 'data/articles'\n",
    "if not os.path.exists(path):\n",
    "    os.makedirs(path)\n",
    "\n",
    "filepath = os.path.join(path, 'concise.json')\n",
    "if os.path.exists(filepath):\n",
    "    os.remove(filepath)\n",
    "\n",
    "with open(filepath, 'w') as file:\n",
    "    json.dump(articles_con, file, indent=2)"
   ],
   "metadata": {
    "collapsed": false,
    "pycharm": {
     "name": "#%%\n"
    }
   }
  },
  {
   "cell_type": "code",
   "execution_count": 90,
   "outputs": [
    {
     "name": "stdout",
     "output_type": "stream",
     "text": [
      "There are 25276 articles in the concise encyclopedia\n"
     ]
    }
   ],
   "source": [
    "print('There are {} articles in the concise encyclopedia'.format(len(articles_con)))"
   ],
   "metadata": {
    "collapsed": false,
    "pycharm": {
     "name": "#%%\n"
    }
   }
  }
 ],
 "metadata": {
  "kernelspec": {
   "display_name": "Python 3",
   "language": "python",
   "name": "python3"
  },
  "language_info": {
   "codemirror_mode": {
    "name": "ipython",
    "version": 2
   },
   "file_extension": ".py",
   "mimetype": "text/x-python",
   "name": "python",
   "nbconvert_exporter": "python",
   "pygments_lexer": "ipython2",
   "version": "2.7.6"
  }
 },
 "nbformat": 4,
 "nbformat_minor": 0
}