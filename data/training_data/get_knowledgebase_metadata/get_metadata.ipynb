{
 "cells": [
  {
   "cell_type": "code",
   "execution_count": 19,
   "metadata": {
    "collapsed": true,
    "pycharm": {
     "name": "#%%\n"
    }
   },
   "outputs": [
    {
     "data": {
      "text/plain": "True"
     },
     "execution_count": 19,
     "metadata": {},
     "output_type": "execute_result"
    }
   ],
   "source": [
    "from get_encyclopedia_metadata import *\n",
    "import requests\n",
    "import os\n",
    "import json\n",
    "from dotenv import load_dotenv\n",
    "load_dotenv()"
   ]
  },
  {
   "cell_type": "code",
   "execution_count": null,
   "outputs": [],
   "source": [
    "def get_metadata(sources, path):\n",
    "    articles = {}\n",
    "\n",
    "    for source in sources:\n",
    "        articles_in_source = get_encyclopedia_metadata(source, path)\n",
    "        articles[source] = articles_in_source\n",
    "\n",
    "    # remove articles with empty title fields\n",
    "    for source in sources:\n",
    "        for article in articles[source]:\n",
    "            if article['title'] == '':\n",
    "                articles[source].remove(article)\n",
    "\n",
    "    if not os.path.exists(path):\n",
    "        os.makedirs(path)\n",
    "\n",
    "    for source in sources:\n",
    "        filepath = os.path.join(path, source + '.json')\n",
    "\n",
    "        if os.path.exists(filepath):\n",
    "            os.remove(filepath)\n",
    "\n",
    "        with open(filepath, \"w\") as outfile:\n",
    "            outfile.write(json.dumps(articles[source], indent=2))\n",
    "\n",
    "    return articles"
   ],
   "metadata": {
    "collapsed": false,
    "pycharm": {
     "name": "#%%\n",
     "is_executing": true
    }
   }
  },
  {
   "cell_type": "code",
   "execution_count": 21,
   "outputs": [],
   "source": [
    "path = 'knowledgebase_metadata/encyclopedia_britannica'\n",
    "sources = ['advanced', 'concise', 'intermediate']\n",
    "\n",
    "get_metadata(sources, path)"
   ],
   "metadata": {
    "collapsed": false,
    "pycharm": {
     "name": "#%%\n"
    }
   }
  },
  {
   "cell_type": "markdown",
   "source": [],
   "metadata": {
    "collapsed": false,
    "pycharm": {
     "name": "#%% md\n"
    }
   }
  }
 ],
 "metadata": {
  "kernelspec": {
   "display_name": "Python 3",
   "language": "python",
   "name": "python3"
  },
  "language_info": {
   "codemirror_mode": {
    "name": "ipython",
    "version": 2
   },
   "file_extension": ".py",
   "mimetype": "text/x-python",
   "name": "python",
   "nbconvert_exporter": "python",
   "pygments_lexer": "ipython2",
   "version": "2.7.6"
  }
 },
 "nbformat": 4,
 "nbformat_minor": 0
}