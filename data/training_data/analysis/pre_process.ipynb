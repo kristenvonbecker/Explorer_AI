{
 "cells": [
  {
   "cell_type": "code",
   "execution_count": null,
   "outputs": [],
   "source": [
    "import language_processing as lang_process\n",
    "import parse_institutional_data as parse_data\n",
    "import entity_processing as entity_proc\n",
    "import process_search_terms as process\n",
    "import json\n",
    "import os"
   ],
   "metadata": {
    "collapsed": false,
    "pycharm": {
     "name": "#%%\n"
    }
   }
  },
  {
   "cell_type": "code",
   "execution_count": 41,
   "outputs": [
    {
     "name": "stderr",
     "output_type": "stream",
     "text": [
      "[nltk_data] Downloading package wordnet to\n",
      "[nltk_data]     /Users/vonbecker/nltk_data...\n",
      "[nltk_data]   Package wordnet is already up-to-date!\n",
      "[nltk_data] Downloading package punkt to /Users/vonbecker/nltk_data...\n",
      "[nltk_data]   Package punkt is already up-to-date!\n",
      "[nltk_data] Downloading package averaged_perceptron_tagger to\n",
      "[nltk_data]     /Users/vonbecker/nltk_data...\n",
      "[nltk_data]   Package averaged_perceptron_tagger is already up-to-\n",
      "[nltk_data]       date!\n",
      "[nltk_data] Downloading package wordnet to\n",
      "[nltk_data]     /Users/vonbecker/nltk_data...\n",
      "[nltk_data]   Package wordnet is already up-to-date!\n",
      "[nltk_data] Downloading package omw-1.4 to\n",
      "[nltk_data]     /Users/vonbecker/nltk_data...\n",
      "[nltk_data]   Package omw-1.4 is already up-to-date!\n"
     ]
    }
   ],
   "source": [
    "from importlib import reload\n",
    "reload(lang_process);\n",
    "reload(parse_data);\n",
    "reload(process);\n",
    "reload(entity_proc)"
   ],
   "metadata": {
    "collapsed": false,
    "pycharm": {
     "name": "#%%\n"
    }
   }
  },
  {
   "cell_type": "code",
   "execution_count": null,
   "outputs": [],
   "source": [
    "# read in and pre-process the exhibit keywords and phenomena\n",
    "\n",
    "path = '../get_institutional_data/data/raw/exhibits.json'\n",
    "phenomena = parse_data.get_keywords(path, 'phenomena')\n",
    "proc_phenomena = [process.preprocess(phenomenon, 'phenomenon') for phenomenon in phenomena]\n",
    "keywords = parse_data.get_keywords(path, 'keywords')\n",
    "proc_keywords = [process.preprocess(keyword, 'keyword') for keyword in keywords]"
   ],
   "metadata": {
    "collapsed": false,
    "pycharm": {
     "name": "#%%\n"
    }
   }
  },
  {
   "cell_type": "code",
   "execution_count": null,
   "outputs": [],
   "source": [
    "# join preprocessed keywords and phenomena, keep unique elements\n",
    "\n",
    "all_search_terms = proc_phenomena + proc_keywords\n",
    "unique_search_terms = []\n",
    "[unique_search_terms.append(x) for x in all_search_terms if x not in unique_search_terms];"
   ],
   "metadata": {
    "collapsed": false,
    "pycharm": {
     "name": "#%%\n"
    }
   }
  },
  {
   "cell_type": "code",
   "execution_count": 42,
   "outputs": [],
   "source": [
    "# create list of all search term data, including related terms and synsets\n",
    "# save to disk\n",
    "\n",
    "all_data = [process.get_all_data(term) for term in unique_search_terms]\n",
    "\n",
    "path = '../get_institutional_data/data/'\n",
    "if not os.path.exists(path):\n",
    "    os.makedirs(path)\n",
    "\n",
    "filepath = os.path.join(path, 'all_search_terms.json')\n",
    "if os.path.exists(filepath):\n",
    "    os.remove(filepath)\n",
    "\n",
    "with open(filepath, 'w') as outfile:\n",
    "    outfile.write(json.dumps(all_data, indent=2))"
   ],
   "metadata": {
    "collapsed": false,
    "pycharm": {
     "name": "#%%\n"
    }
   }
  },
  {
   "cell_type": "code",
   "execution_count": null,
   "outputs": [],
   "source": [],
   "metadata": {
    "collapsed": false,
    "pycharm": {
     "name": "#%%\n"
    }
   }
  }
 ],
 "metadata": {
  "kernelspec": {
   "display_name": "Python 3",
   "language": "python",
   "name": "python3"
  },
  "language_info": {
   "codemirror_mode": {
    "name": "ipython",
    "version": 2
   },
   "file_extension": ".py",
   "mimetype": "text/x-python",
   "name": "python",
   "nbconvert_exporter": "python",
   "pygments_lexer": "ipython2",
   "version": "2.7.6"
  }
 },
 "nbformat": 4,
 "nbformat_minor": 0
}