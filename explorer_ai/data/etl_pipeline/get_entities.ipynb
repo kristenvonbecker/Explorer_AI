{
 "cells": [
  {
   "cell_type": "code",
   "execution_count": 115,
   "metadata": {
    "collapsed": true,
    "pycharm": {
     "name": "#%%\n"
    }
   },
   "outputs": [],
   "source": [
    "import parse_institutional_data as parse_data\n",
    "import language_v1_analysis as language_v1\n",
    "import entity_processing"
   ]
  },
  {
   "cell_type": "code",
   "execution_count": 116,
   "outputs": [],
   "source": [
    "from importlib import reload\n",
    "\n",
    "reload(parse_data);\n",
    "reload(language_v1);\n",
    "reload(entity_processing);"
   ],
   "metadata": {
    "collapsed": false,
    "pycharm": {
     "name": "#%%\n"
    }
   }
  },
  {
   "cell_type": "code",
   "execution_count": 108,
   "outputs": [],
   "source": [
    "groupings = ['exhibits', 'galleries']\n",
    "\n",
    "fields = {\n",
    "    'exhibits': [\n",
    "        'tagline',\n",
    "        'byline',\n",
    "        'description',\n",
    "        'whats_going_on',\n",
    "        'going_further',\n",
    "        'details'\n",
    "    ],\n",
    "    'galleries': [\n",
    "        'tagline',\n",
    "        'description',\n",
    "        'curator_statement'\n",
    "    ]\n",
    "}\n",
    "\n",
    "path = '../get_institutional_data/data/raw'\n",
    "\n",
    "units = {}\n",
    "for grouping in groupings:\n",
    "    units[grouping] = parse_data.get_unit_names(path, grouping)"
   ],
   "metadata": {
    "collapsed": false,
    "pycharm": {
     "name": "#%%\n"
    }
   }
  },
  {
   "cell_type": "code",
   "execution_count": 74,
   "outputs": [],
   "source": [
    "# split fields from exhibit and gallery data that are needed for entity analysis\n",
    "\n",
    "path_in = '../get_institutional_data/data/raw'\n",
    "path_out = '../get_institutional_data/data/split_fields'\n",
    "\n",
    "for grouping in groupings:\n",
    "    for field in fields[grouping]:\n",
    "        parse_data.split_fields(path_in, path_out, grouping, fields[grouping])"
   ],
   "metadata": {
    "collapsed": false,
    "pycharm": {
     "name": "#%%\n"
    }
   }
  },
  {
   "cell_type": "code",
   "execution_count": null,
   "outputs": [],
   "source": [
    "# get entities using language_v1\n",
    "\n",
    "path_in = '../get_institutional_data/data/split_fields'\n",
    "path_out = '../get_institutional_data/data/entities'\n",
    "\n",
    "language_v1.get_entities(groupings, fields, path_in, path_out)"
   ],
   "metadata": {
    "collapsed": false,
    "pycharm": {
     "name": "#%%\n",
     "is_executing": true
    }
   }
  },
  {
   "cell_type": "code",
   "execution_count": 117,
   "outputs": [],
   "source": [
    "# merge duplicate entity names\n",
    "\n",
    "path = '../get_institutional_data/data/entities'\n",
    "merged = entity_processing.merge_all(groupings, path, path)"
   ],
   "metadata": {
    "collapsed": false,
    "pycharm": {
     "name": "#%%\n"
    }
   }
  },
  {
   "cell_type": "code",
   "execution_count": null,
   "outputs": [],
   "source": [],
   "metadata": {
    "collapsed": false,
    "pycharm": {
     "name": "#%%\n"
    }
   }
  }
 ],
 "metadata": {
  "kernelspec": {
   "display_name": "Python 3",
   "language": "python",
   "name": "python3"
  },
  "language_info": {
   "codemirror_mode": {
    "name": "ipython",
    "version": 2
   },
   "file_extension": ".py",
   "mimetype": "text/x-python",
   "name": "python",
   "nbconvert_exporter": "python",
   "pygments_lexer": "ipython2",
   "version": "2.7.6"
  }
 },
 "nbformat": 4,
 "nbformat_minor": 0
}