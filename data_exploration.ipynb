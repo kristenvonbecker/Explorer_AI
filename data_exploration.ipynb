{
 "cells": [
  {
   "cell_type": "code",
   "execution_count": 376,
   "id": "93c0c65f",
   "metadata": {
    "pycharm": {
     "name": "#%%\n"
    }
   },
   "outputs": [],
   "source": [
    "import json\n",
    "import numpy as np\n",
    "import pandas as pd\n",
    "from random import randrange\n",
    "import collections\n",
    "import pprint\n",
    "import matplotlib.pyplot as plt"
   ]
  },
  {
   "cell_type": "code",
   "execution_count": 377,
   "outputs": [],
   "source": [
    "pp = pprint.PrettyPrinter(indent=2)\n",
    "%matplotlib inline"
   ],
   "metadata": {
    "collapsed": false,
    "pycharm": {
     "name": "#%%\n"
    }
   }
  },
  {
   "cell_type": "code",
   "execution_count": 399,
   "outputs": [],
   "source": [
    "# import exhibit-level data\n",
    "\n",
    "with open('data/scraped_data/exhibits.json', 'r') as f:\n",
    "    exhibits = json.load(f)\n",
    "\n",
    "with open('data/entities/exhibits.json', 'r') as f:\n",
    "    exhibit_entities = json.load(f)"
   ],
   "metadata": {
    "collapsed": false,
    "pycharm": {
     "name": "#%%\n"
    }
   }
  },
  {
   "cell_type": "code",
   "execution_count": 400,
   "outputs": [
    {
     "name": "stdout",
     "output_type": "stream",
     "text": [
      "Number of exhibits: 178\n",
      "\n",
      "Exhibit fields: ['id', 'title', 'aliases', 'location', 'byline', 'collection_id', 'related_id', 'tagline', 'description', 'whats_going_on', 'going_further', 'details', 'phenomena', 'keywords']\n",
      "\n",
      "Random exhibit: www.exploratorium.edu/exhibits/machine-with-concrete\n",
      "Random exhibit:\n",
      "{ 'aliases': 'DICE, Seeing Scientifically, Zebrafish Embryos',\n",
      "  'byline': 'Joyce Ma , Eyal Shahar , and Kristina Yu , 2017',\n",
      "  'collection_id': [ 'cells-to-self',\n",
      "                     'diving-into-the-gene-pool',\n",
      "                     'traits-of-life'],\n",
      "  'description': 'Here you can see inside living zebrafish embryos, watch '\n",
      "                 'their blood circulate, and compare your own pulse to '\n",
      "                 'theirs. ',\n",
      "  'details': '',\n",
      "  'going_further': 'Although zebrafish don’t look much like humans, our '\n",
      "                   'embryos follow a similar path during early development, so '\n",
      "                   'we can study zebrafish to learn about human development. '\n",
      "                   'For example, there are genetic mutations in zebrafish that '\n",
      "                   'cause heart defects that are very similar to mutations '\n",
      "                   'that cause defects in human hearts. You may encounter some '\n",
      "                   'of these mutant zebrafish in this exhibit. They’re easy to '\n",
      "                   'spot because their strangely shaped hearts don’t pump '\n",
      "                   'blood very well. Website: FishScope: Time-Lapse Recordings '\n",
      "                   'and Confocal Images Dealing with the Developmental Biology '\n",
      "                   'of Fish. © 1995, 1996, 1997, 1998, 1999, and 2000 by Mark '\n",
      "                   'Cooper. Website: The Zebrafish Information Network (ZFIN). '\n",
      "                   '© University of Oregon, 1994–2018, Eugene Oregon.',\n",
      "  'id': 'look-inside-developing-fish',\n",
      "  'keywords': ['embryology', 'fish eggs', 'model organisms', 'zebrafish'],\n",
      "  'location': 'Gallery 4: Living Systems',\n",
      "  'phenomena': ['Embryonic Development', 'Microscopy', 'Reproduction'],\n",
      "  'related_id': [ 'live-chicken-embryos',\n",
      "                  'can-you-spot-the-human',\n",
      "                  'are-your-cells-you',\n",
      "                  'give-heart-cells-a-beat'],\n",
      "  'tagline': 'Use a microscope to investigate live embryos—developing '\n",
      "             'eggs—from zebrafish.',\n",
      "  'title': 'Look Inside a Developing Fish',\n",
      "  'whats_going_on': 'Zebrafish are widely studied in biology, and for good '\n",
      "                    'reason. Not only are they hardy and easy to grow in a '\n",
      "                    'lab, their embryos are translucent, so it’s easy to '\n",
      "                    'observe how they develop from a single cell into a newly '\n",
      "                    'hatched fish. A fertilized zebrafish egg develops and '\n",
      "                    'hatches within 48 hours. It then takes three months for '\n",
      "                    'it to reach adulthood.  Although zebrafish don’t look '\n",
      "                    'much like humans, our embryos follow a similar path '\n",
      "                    'during early development, so we can study zebrafish to '\n",
      "                    'learn about human development. For example, there are '\n",
      "                    'genetic mutations in zebrafish that cause heart defects '\n",
      "                    'that are very similar to mutations that cause defects in '\n",
      "                    'human hearts. You may encounter some of these mutant '\n",
      "                    'zebrafish in this exhibit. They’re easy to spot because '\n",
      "                    'their strangely shaped hearts don’t pump blood very well. '\n",
      "                    'Website: FishScope: Time-Lapse Recordings and Confocal '\n",
      "                    'Images Dealing with the Developmental Biology of Fish. © '\n",
      "                    '1995, 1996, 1997, 1998, 1999, and 2000 by Mark Cooper. '\n",
      "                    'Website: The Zebrafish Information Network (ZFIN). © '\n",
      "                    'University of Oregon, 1994–2018, Eugene Oregon.'}\n"
     ]
    }
   ],
   "source": [
    "# take a peek at exhibit data\n",
    "\n",
    "print('Number of exhibits: {}'.format(len(exhibits)))\n",
    "\n",
    "exhibit_fields = list(exhibits[0].keys())\n",
    "print('\\nExhibit fields: {}'.format(exhibit_fields))\n",
    "\n",
    "N = randrange(len(exhibits))\n",
    "rand_exhibit_url = 'www.exploratorium.edu/exhibits/' + exhibit_entities[N]['id']   # WHAT'S THE CORRECT SYNTAX FOR THIS??\n",
    "print('\\nRandom exhibit: {}'.format(rand_exhibit_url))\n",
    "print('Random exhibit:')\n",
    "pp.pprint(exhibits[N])"
   ],
   "metadata": {
    "collapsed": false,
    "pycharm": {
     "name": "#%%\n"
    }
   }
  },
  {
   "cell_type": "code",
   "execution_count": 401,
   "outputs": [
    {
     "name": "stdout",
     "output_type": "stream",
     "text": [
      "Number of exhibit entity items: 546\n",
      "\n",
      "Exhibit entity fields: ['id', 'grouping', 'category', 'entities']\n",
      "\n",
      "Random exhibit:www.exploratorium.edu/exhibits/monochromatic-room\n",
      "Random exhibit entities:\n",
      "{ 'category': 'going_further',\n",
      "  'entities': [ { 'name': 'sodium vapor lamps',\n",
      "                  'salience': 0.5459465980529785,\n",
      "                  'type': 'OTHER'},\n",
      "                { 'name': 'light',\n",
      "                  'salience': 0.12822826206684113,\n",
      "                  'type': 'OTHER'},\n",
      "                { 'name': 'room',\n",
      "                  'salience': 0.12822826206684113,\n",
      "                  'type': 'LOCATION'},\n",
      "                { 'name': 'streetlights',\n",
      "                  'salience': 0.045561350882053375,\n",
      "                  'type': 'OTHER'},\n",
      "                { 'name': 'light',\n",
      "                  'salience': 0.03283724933862686,\n",
      "                  'type': 'OTHER'},\n",
      "                { 'name': 'Light pollution',\n",
      "                  'salience': 0.02072114683687687,\n",
      "                  'type': 'OTHER'},\n",
      "                { 'name': 'color',\n",
      "                  'salience': 0.01727185770869255,\n",
      "                  'type': 'OTHER'},\n",
      "                { 'name': 'Sodium vapor lamps',\n",
      "                  'salience': 0.015806961804628372,\n",
      "                  'type': 'OTHER'},\n",
      "                { 'name': 'observatories',\n",
      "                  'salience': 0.015268268063664436,\n",
      "                  'type': 'LOCATION'},\n",
      "                { 'name': 'light pollution problems',\n",
      "                  'salience': 0.015083516016602516,\n",
      "                  'type': 'OTHER'},\n",
      "                { 'name': 'color',\n",
      "                  'salience': 0.011942953802645206,\n",
      "                  'type': 'OTHER'},\n",
      "                { 'name': 'wavelength',\n",
      "                  'salience': 0.010500296019017696,\n",
      "                  'type': 'OTHER'},\n",
      "                { 'name': 'image',\n",
      "                  'salience': 0.0073439511470496655,\n",
      "                  'type': 'OTHER'},\n",
      "                { 'name': 'room',\n",
      "                  'salience': 0.005259361118078232,\n",
      "                  'type': 'LOCATION'},\n",
      "                {'name': '589', 'salience': 0.0, 'type': 'NUMBER'},\n",
      "                {'name': 'one', 'salience': 0.0, 'type': 'NUMBER'}],\n",
      "  'grouping': 'exhibits',\n",
      "  'id': 'monochromatic-room'}\n"
     ]
    }
   ],
   "source": [
    "# take a peek at exhibit entity data\n",
    "\n",
    "print('Number of exhibit entity items: {}'.format(len(exhibit_entities)))\n",
    "\n",
    "exhibit_entity_fields = list(exhibit_entities[0].keys())\n",
    "print('\\nExhibit entity fields: {}'.format(exhibit_entity_fields))\n",
    "\n",
    "N = randrange(len(exhibit_entities))\n",
    "rand_exhibit_entities_url = 'www.exploratorium.edu/exhibits/' + exhibit_entities[N]['id']   # SYNTAX??\n",
    "print('\\nRandom exhibit:{}'.format(rand_exhibit_entities_url))\n",
    "print('Random exhibit entities:')\n",
    "pp.pprint(exhibit_entities[N])"
   ],
   "metadata": {
    "collapsed": false,
    "pycharm": {
     "name": "#%%\n"
    }
   }
  },
  {
   "cell_type": "code",
   "execution_count": 402,
   "outputs": [],
   "source": [
    "# add a 'source' key to the exhibit entity data, and assign a value of 'gcp' to the exisiting entity items\n",
    "\n",
    "for item in exhibit_entities:\n",
    "    for entity in item['entities']:\n",
    "        entity.update({'source': 'gcp'})"
   ],
   "metadata": {
    "collapsed": false,
    "pycharm": {
     "name": "#%%\n"
    }
   }
  },
  {
   "cell_type": "code",
   "execution_count": 403,
   "outputs": [
    {
     "name": "stdout",
     "output_type": "stream",
     "text": [
      "Number of unique exhibit keywords: 114\n",
      "\n",
      "Top 25 exhibit keyword counts:\n",
      "mirrors                12\n",
      "weather                 9\n",
      "water                   8\n",
      "eyes                    8\n",
      "pendulums               5\n",
      "fog                     4\n",
      "sand                    4\n",
      "parabolas               4\n",
      "spinning                4\n",
      "evaporation             3\n",
      "focal point             3\n",
      "musical instruments     3\n",
      "magnetic field          3\n",
      "illusions               3\n",
      "sun                     3\n",
      "photography             2\n",
      "bicycle wheel           2\n",
      "model                   2\n",
      "amplification           2\n",
      "embryology              2\n",
      "cooperation             2\n",
      "genetics                2\n",
      "complexity              2\n",
      "perspective             2\n",
      "magnet                  2\n",
      "dtype: int64\n",
      "\n",
      "Unique exhibit keywords: ['CMY', 'CMY retina', 'Chladni', 'DNA', \"Huygens' principle\", 'Marine', 'Migrations', 'Neon', \"Newton's Laws\", 'Ocean', 'Pacific', 'RGB', 'Sharks', 'Stroop effect', 'Turtles', 'Whales', 'acoustics', 'adaptation', 'afterimage', 'air currents', 'amplification', 'appearance', 'artwork', 'attentive listening', 'balance', 'bicycle wheel', 'boundary', 'bubbles', 'carbon dioxide', 'cells', 'cells movement animation', 'center of gravity', 'chaos', 'chicken wire', 'circuit', 'comets', 'complexity', 'condensation', 'cooperation', 'cornsweet illusion', 'cosmic rays', 'curves', 'dissection', 'earthquakes', 'electrolysis', 'embryology', 'equilibrium', 'evaporation', 'eyes', 'fish eggs', 'focal point', 'fog', 'fragmentation', 'ganzfeld effect', 'gases', 'genetics', 'gravity', 'habitat', 'heat transfer', 'human generosity project', 'human traits genetics environment nature/nurture inheritance diversity', 'identical twins', 'identity', 'illusions', 'lasers', 'lenses', 'levitation', 'magnet', 'magnetic field', 'magnification', 'membrane', 'mirrors', 'model', 'model organisms', 'moon', 'musical instruments', 'navigation', 'nerves', 'organisms', 'parabolas', 'parallel', 'pendulums', 'perspective', 'phase angle', 'photography', 'ping pong balls', 'plankton', 'portraits', 'pressure', 'prisms', 'proportion', 'ratio', 'reflections', 'rotation', 'sand', 'scale', 'series', 'simultaneous contrast', 'skin', 'soap', 'speakers', 'spinning', 'sun', 'sundial', 'tides', 'turbulence', 'unicellular organisms', 'vibration', 'volcanoes', 'water', 'wavelength', 'weather', 'wind', 'zebrafish']\n"
     ]
    }
   ],
   "source": [
    "# get unique keywords (from scraped data)\n",
    "\n",
    "keywords = [exhibit['keywords'] for exhibit in exhibits]\n",
    "keywords = [item for sublist in keywords for item in sublist]\n",
    "all_keywords = pd.Series(keywords)\n",
    "keyword_freq = all_keywords.value_counts(sort=True)\n",
    "unique_keywords = pd.Series(list(set(keywords)))\n",
    "\n",
    "print('Number of unique exhibit keywords: {}'.format(len(unique_keywords)))\n",
    "print('\\nTop 25 exhibit keyword counts:\\n{}'.format(keyword_freq.head(25)))\n",
    "print('\\nUnique exhibit keywords: {}'.format(sorted(unique_keywords.tolist())))"
   ],
   "metadata": {
    "collapsed": false,
    "pycharm": {
     "name": "#%%\n"
    }
   }
  },
  {
   "cell_type": "code",
   "execution_count": 404,
   "outputs": [],
   "source": [
    "# add entries corresponding to each instance of each keyword above (some keywords correspond to more than one exhibit)\n",
    "# to the exhibit_entiteis data\n",
    "\n",
    "for exhibit in exhibits:\n",
    "    if len(exhibit['keywords']) == 0:\n",
    "        continue\n",
    "    exhibit_id = exhibit['id']\n",
    "    these_entities = []\n",
    "    for keyword in exhibit['keywords']:\n",
    "        these_entities.append(\n",
    "            {'name': keyword,\n",
    "             'type': 'keyword',\n",
    "             'salience': 1.0,\n",
    "             'source': 'exploratorium.com'\n",
    "            }\n",
    "        )\n",
    "    exhibit_entities.append(\n",
    "            {'id': exhibit_id,\n",
    "             'grouping': 'exhibits',\n",
    "             'category': 'exhibit',\n",
    "             'entities': these_entities\n",
    "            }\n",
    "    )"
   ],
   "metadata": {
    "collapsed": false,
    "pycharm": {
     "name": "#%%\n"
    }
   }
  },
  {
   "cell_type": "code",
   "execution_count": 405,
   "outputs": [
    {
     "name": "stdout",
     "output_type": "stream",
     "text": [
      "Number of unique exhibit phenemena: 144\n",
      "\n",
      "Top 25 exhibit phenomena counts:\n",
      "Patterns                                    19\n",
      "Reflection                                  19\n",
      "Color                                       18\n",
      "Resonance                                   15\n",
      "Image Formation                             13\n",
      "Techniques to Make the Invisible Visible     8\n",
      "Fluid Mechanics                              7\n",
      "Symmetry                                     7\n",
      "Color Mixing                                 7\n",
      "Shadows                                      7\n",
      "Motion: Periodic Motion                      7\n",
      "Motion: Pendular Motion                      7\n",
      "Wave Excitation                              7\n",
      "Natural Frequency                            6\n",
      "Wind                                         6\n",
      "Feedback                                     6\n",
      "Nonlinear Behavior                           6\n",
      "Turbulent Flow                               5\n",
      "Oscillation                                  5\n",
      "Light Production                             5\n",
      "Scattering                                   5\n",
      "Judgment                                     4\n",
      "Wave Guide                                   4\n",
      "Electromagnetic Forces                       4\n",
      "Motion: Rotational Motion                    4\n",
      "dtype: int64\n",
      "\n",
      "Unique exhibit phenomena: ['Absorption: Light', 'Afterimage', 'Albedo', 'Apparent Motion', 'Atoms and Particles', 'Attention', 'Bernoulli Effect', 'Biases', 'Binocular Vision', 'Blackness', 'Change of State', 'Close Packing', 'Coandă  Effect', 'Color', 'Color Mixing', 'Color Mixing: Subtractive', 'Color Separation', 'Color Vision', 'Color: Complimentary', 'Condensation', 'Conservation of Angular Momentum', 'Crystallization', 'Cues: Amibiguous', 'Cues: Dominant', 'Damping', 'Decomposition', 'Depth Perception', 'Diffraction', 'Dispersion', 'Economic Exchange', 'Electric Current', 'Electric Fields and Forces', 'Electromagnetic Forces', 'Electromagnetic Radiation Spectrum', 'Embryonic Development', 'Emotion', 'Energy: Conservation of Energy', 'Energy: Kinetic', 'Energy: Potential', 'Energy: Transformation of Energy', 'Evaporation', 'Exponentials', 'Fatigue', 'Feedback', 'Ferromagnetism', 'Fluid Mechanics', 'Fluorescence', 'Frame of Reference', 'Freezing', 'Frequency', 'Friction', 'Gas Flow', 'Gravitational Forces', 'Gyroscopics', 'Hand-Eye Coordination', 'Harmonics', 'Image Formation', 'Images: Real', 'Inertia: Linear', 'Inertia: Rotational', 'Information Processing and Encoding', 'Information and Noise', 'Interference', 'Ionization', 'Iridescence', 'Judgment', 'Laminar Flow', 'Lateral Inhibition', 'Light Gathering', 'Light Production', 'Magnetization', 'Melting', 'Mental Activity', 'Mental Tasks', 'Metacognition', 'Microscopy', 'Modeling Landscapes', 'Motion Detection', 'Motion: Accelerated Gravitational Motion', 'Motion: Accelerated Linear Motion', 'Motion: Accelerated Rotational Motion', 'Motion: Composition of Perpendicular Motion', 'Motion: Pendular Motion', 'Motion: Periodic Motion', 'Motion: Rotational Motion', 'Motion: Simple Harmonic Motion', 'Motion: Visual Motion Detection', 'Natural Frequency', 'Nodes and Antinodes', 'Nonlinear Behavior', 'Number Series', 'Numbers', 'Oscillation', 'Parabolas', 'Parabolic Arc', 'Parabolic Mirrors', 'Parallax', 'Patterns', 'Perception: Spatial', 'Persistence of Vision', 'Phase', 'Phosphoresence', 'Photosynthesis', 'Phototaxis', 'Polarization', 'Precession', 'Pressure', \"Prisoner's Dilemma\", 'Probability', 'Projections', 'Randomness', 'Reaction Time', 'Reflection', 'Refraction', 'Reproduction', 'Resonance', 'Resource Sharing', 'Rhythm', 'Scattering', 'Selective Awareness', 'Shadows', 'Size-Distance', 'Social Dilemma', 'Social Influence', 'Social Loafing', 'Stereotypes', 'Sublimation', 'Superposition', 'Surface Tension of Liquids', 'Symmetry', 'Techniques to Make the Invisible Visible', 'Temperature: Effect of', 'Thin Films', 'Time Effects in Perception', 'Torque', 'Turbulent Flow', 'Upwelling', 'Visual Edge Effects', 'Vortices', 'Wave Excitation', 'Wave Guide', 'Waves: Standing', 'Waves: Transverse', 'Wind']\n"
     ]
    }
   ],
   "source": [
    "# find unique phenomena (from scraped data)\n",
    "\n",
    "phenomena = [exhibit['phenomena'] for exhibit in exhibits]\n",
    "phenomena = [item for sublist in phenomena for item in sublist]\n",
    "all_phenomena = pd.Series(phenomena)\n",
    "phenomenon_freq = all_phenomena.value_counts(sort=True)\n",
    "unique_phenomena = pd.Series(list(set(phenomena)))\n",
    "\n",
    "print('Number of unique exhibit phenemena: {}'.format(len(unique_phenomena)))\n",
    "print('\\nTop 25 exhibit phenomena counts:\\n{}'.format(phenomenon_freq.head(25)))\n",
    "print('\\nUnique exhibit phenomena: {}'.format(sorted(unique_phenomena.tolist())))"
   ],
   "metadata": {
    "collapsed": false,
    "pycharm": {
     "name": "#%%\n"
    }
   }
  },
  {
   "cell_type": "code",
   "execution_count": 406,
   "outputs": [],
   "source": [
    "# add entries corresponding to each instance of each phenomenon above (some phenomena correspond to more than one exhibit)\n",
    "# to the exhibit_entiteis data\n",
    "\n",
    "for exhibit in exhibits:\n",
    "    if len(exhibit['phenomena']) == 0:\n",
    "        continue\n",
    "    exhibit_id = exhibit['id']\n",
    "    these_entities = []\n",
    "    for phenomenon in exhibit['phenomena']:\n",
    "        these_entities.append(\n",
    "            {'name': phenomenon,\n",
    "             'type': 'phenomenon',\n",
    "             'salience': 1.0,\n",
    "             'source': 'exploratorium.com'\n",
    "            }\n",
    "        )\n",
    "    exhibit_entities.append(\n",
    "            {'id': exhibit_id,\n",
    "             'grouping': 'exhibits',\n",
    "             'category': 'exhibit',\n",
    "             'entities': these_entities\n",
    "            }\n",
    "    )"
   ],
   "metadata": {
    "collapsed": false,
    "pycharm": {
     "name": "#%%\n"
    }
   }
  },
  {
   "cell_type": "code",
   "execution_count": 407,
   "outputs": [
    {
     "name": "stdout",
     "output_type": "stream",
     "text": [
      "There are 0 undefined entity salience values in exhibit_entities\n",
      "There are 0 undefined entity type values in exhibit_entities\n"
     ]
    }
   ],
   "source": [
    "# analyze salience and type of entities\n",
    "\n",
    "entity_sublists = [item['entities'] for item in exhibit_entities]\n",
    "entities = [item for sublist in entity_sublists for item in sublist]\n",
    "\n",
    "saliences = [entity['salience'] for entity in entities]\n",
    "saliences = pd.Series(saliences)\n",
    "undef_salience = pd.isna(saliences).sum()\n",
    "\n",
    "print('There are {} undefined entity salience values in exhibit_entities'.format(undef_salience))\n",
    "\n",
    "types = [entity['type'] for entity in entities]\n",
    "types = pd.Series(types)\n",
    "undef_type = pd.isna(types).sum()\n",
    "\n",
    "print('There are {} undefined entity type values in exhibit_entities'.format(undef_type))"
   ],
   "metadata": {
    "collapsed": false,
    "pycharm": {
     "name": "#%%\n"
    }
   }
  },
  {
   "cell_type": "code",
   "execution_count": 408,
   "outputs": [
    {
     "data": {
      "text/plain": "<Figure size 640x480 with 1 Axes>",
      "image/png": "[encoded data removed]"
     },
     "metadata": {},
     "output_type": "display_data"
    }
   ],
   "source": [
    "ax = types.value_counts().plot(kind='bar')\n",
    "ax.set_title('Frequency of Entity Type for Exhibit Data')\n",
    "plt.show()"
   ],
   "metadata": {
    "collapsed": false,
    "pycharm": {
     "name": "#%%\n"
    }
   }
  },
  {
   "cell_type": "code",
   "execution_count": 409,
   "outputs": [
    {
     "data": {
      "text/plain": "<Figure size 640x480 with 1 Axes>",
      "image/png": "[encoded data removed]"
     },
     "metadata": {},
     "output_type": "display_data"
    },
    {
     "name": "stdout",
     "output_type": "stream",
     "text": [
      "800 entities have salience = 0\n",
      "737 entities have salience = 1\n"
     ]
    }
   ],
   "source": [
    "plt.hist(saliences, bins=100)\n",
    "plt.title('Distribution of Entity Salience for Exhibit Data')\n",
    "plt.show()\n",
    "\n",
    "low_salience = pd.Series([np.abs(salience) < 0.0001 for salience in saliences]).sum()\n",
    "high_salience = pd.Series([np.abs(salience) > 0.9999 for salience in saliences]).sum()\n",
    "print('{} entities have salience = 0'.format(low_salience))\n",
    "print('{} entities have salience = 1'.format(high_salience))"
   ],
   "metadata": {
    "collapsed": false,
    "pycharm": {
     "name": "#%%\n"
    }
   }
  },
  {
   "cell_type": "code",
   "execution_count": 410,
   "outputs": [
    {
     "name": "stdout",
     "output_type": "stream",
     "text": [
      "There are 309 items in exhibit_entities with duplicated entity names:\n",
      "\n",
      "Random such item:\n",
      "\n",
      "{ 'category': 'byline',\n",
      "  'entities': [ { 'name': 'Jessica Strick',\n",
      "                  'salience': 1.0,\n",
      "                  'source': 'gcp',\n",
      "                  'type': 'PERSON'},\n",
      "                { 'name': '2005',\n",
      "                  'salience': 0.0,\n",
      "                  'source': 'gcp',\n",
      "                  'type': 'DATE'},\n",
      "                { 'name': '2005',\n",
      "                  'salience': 0.0,\n",
      "                  'source': 'gcp',\n",
      "                  'type': 'NUMBER'}],\n",
      "  'grouping': 'exhibits',\n",
      "  'id': 'bronze-hand'}\n"
     ]
    }
   ],
   "source": [
    "# identify items in exhibit_entities with duplicate entity names\n",
    "\n",
    "def has_dupes(item):\n",
    "    names = [item['entities'][k]['name'] for k in range(len(item['entities']))]\n",
    "    if len(names) > len(list(set(names))):\n",
    "        return True\n",
    "    else:\n",
    "        return False\n",
    "\n",
    "num_dupes = 0\n",
    "for item in exhibit_entities:\n",
    "    num_dupes += has_dupes(item)\n",
    "\n",
    "print('There are {} items in exhibit_entities with duplicated entity names:\\n'.format(num_dupes))\n",
    "N = randrange(num_dupes)\n",
    "dupes = [item for item in exhibit_entities if has_dupes(item)]\n",
    "print('Random such item:\\n')\n",
    "pp.pprint(dupes[N])"
   ],
   "metadata": {
    "collapsed": false,
    "pycharm": {
     "name": "#%%\n"
    }
   }
  },
  {
   "cell_type": "code",
   "execution_count": 411,
   "outputs": [],
   "source": [
    "# define merge function\n",
    "# merge on entity name\n",
    "# salience = max(salience for each dupe entity name)\n",
    "# type = from (type for each dupe entity name), choose the one with smallest index in ordered_types\n",
    "\n",
    "ordered_types = ['phenomenon',\n",
    "                 'keyword',\n",
    "                 'PERSON',\n",
    "                 'DATE',\n",
    "                 'ORGANIZATION',\n",
    "                 'LOCATION',\n",
    "                 'NUMBER',\n",
    "                 'EVENT',\n",
    "                 'CONSUMER_GOOD',\n",
    "                 'WORK_OF_ART',\n",
    "                 'OTHER']\n",
    "\n",
    "def choose_type(types):\n",
    "    for type in ordered_types:\n",
    "        if type in types:\n",
    "            return type\n",
    "\n",
    "def merge_entities(item):\n",
    "    if not has_dupes(item):\n",
    "        return item\n",
    "    new_item = {\n",
    "        'id': item['id'],\n",
    "        'grouping': item['grouping'],\n",
    "        'category': item['category'],\n",
    "    }\n",
    "    names = [item['entities'][k]['name'] for k in range(len(item['entities']))]\n",
    "    merged_entities = []\n",
    "    for name, count in collections.Counter(names).items():\n",
    "        types = [item['entities'][k]['type'] for k in range(len(item['entities'])) if item['entities'][k]['name'] == name]\n",
    "        saliences = [item['entities'][k]['salience'] for k in range(len(item['entities'])) if item['entities'][k]['name'] == name]\n",
    "        this_entity = {}\n",
    "        this_entity['name'] = name\n",
    "        this_entity['salience'] = np.max(saliences)\n",
    "        this_entity['type'] = choose_type(types)\n",
    "        this_entity['source'] = 'merge'\n",
    "        merged_entities.append(this_entity)\n",
    "    new_item.update({'entities': merged_entities})\n",
    "    return new_item"
   ],
   "metadata": {
    "collapsed": false,
    "pycharm": {
     "name": "#%%\n"
    }
   }
  },
  {
   "cell_type": "code",
   "execution_count": 412,
   "outputs": [
    {
     "name": "stdout",
     "output_type": "stream",
     "text": [
      "There are 0 items in exhibit_entities_merged with duplicated entity names\n"
     ]
    }
   ],
   "source": [
    "# merge exhibit extity data on entity name\n",
    "\n",
    "exhibit_entities_merged = []\n",
    "for item in exhibit_entities:\n",
    "    merged = merge_entities(item)\n",
    "    exhibit_entities_merged.append(merged)\n",
    "\n",
    "num_dupes = 0\n",
    "for item in exhibit_entities_merged:\n",
    "    num_dupes += has_dupes(item)\n",
    "\n",
    "print('There are {} items in exhibit_entities_merged with duplicated entity names'.format(num_dupes))"
   ],
   "metadata": {
    "collapsed": false,
    "pycharm": {
     "name": "#%%\n"
    }
   }
  },
  {
   "cell_type": "code",
   "execution_count": 413,
   "outputs": [
    {
     "name": "stdout",
     "output_type": "stream",
     "text": [
      "{ 'category': 'byline',\n",
      "  'entities': [ { 'name': 'Artist',\n",
      "                  'salience': 0.816230058670044,\n",
      "                  'source': 'merge',\n",
      "                  'type': 'PERSON'},\n",
      "                { 'name': 'Residence Douglas Hollis',\n",
      "                  'salience': 0.18376991152763367,\n",
      "                  'source': 'merge',\n",
      "                  'type': 'OTHER'},\n",
      "                { 'name': '1976',\n",
      "                  'salience': 0.0,\n",
      "                  'source': 'merge',\n",
      "                  'type': 'DATE'}],\n",
      "  'grouping': 'exhibits',\n",
      "  'id': 'aeolian-harp'}\n",
      "{ 'category': 'byline',\n",
      "  'entities': [ { 'name': 'Denise King',\n",
      "                  'salience': 0.7063267230987549,\n",
      "                  'source': 'merge',\n",
      "                  'type': 'PERSON'},\n",
      "                { 'name': 'Charles Carlson',\n",
      "                  'salience': 0.22174805402755737,\n",
      "                  'source': 'merge',\n",
      "                  'type': 'PERSON'},\n",
      "                { 'name': 'Sitara Cave',\n",
      "                  'salience': 0.07192525267601013,\n",
      "                  'source': 'merge',\n",
      "                  'type': 'CONSUMER_GOOD'},\n",
      "                { 'name': '2002',\n",
      "                  'salience': 0.0,\n",
      "                  'source': 'merge',\n",
      "                  'type': 'DATE'}],\n",
      "  'grouping': 'exhibits',\n",
      "  'id': 'bacteriopolis'}\n",
      "{ 'category': 'byline',\n",
      "  'entities': [ { 'name': 'Frank Oppenheimer',\n",
      "                  'salience': 0.6496447324752808,\n",
      "                  'source': 'merge',\n",
      "                  'type': 'PERSON'},\n",
      "                { 'name': 'Exploratorium',\n",
      "                  'salience': 0.31945350766181946,\n",
      "                  'source': 'merge',\n",
      "                  'type': 'ORGANIZATION'},\n",
      "                { 'name': 'Tom Tompkins',\n",
      "                  'salience': 0.030901756137609482,\n",
      "                  'source': 'merge',\n",
      "                  'type': 'PERSON'},\n",
      "                { 'name': '1975',\n",
      "                  'salience': 0.0,\n",
      "                  'source': 'merge',\n",
      "                  'type': 'DATE'}],\n",
      "  'grouping': 'exhibits',\n",
      "  'id': 'bicycle-wheel-gyro'}\n",
      "{ 'category': 'byline',\n",
      "  'entities': [ { 'name': 'Loan',\n",
      "                  'salience': 0.804345965385437,\n",
      "                  'source': 'merge',\n",
      "                  'type': 'OTHER'},\n",
      "                { 'name': 'Smithsonian Institution',\n",
      "                  'salience': 0.195654034614563,\n",
      "                  'source': 'merge',\n",
      "                  'type': 'ORGANIZATION'},\n",
      "                { 'name': '2009',\n",
      "                  'salience': 0.0,\n",
      "                  'source': 'merge',\n",
      "                  'type': 'DATE'}],\n",
      "  'grouping': 'exhibits',\n",
      "  'id': 'giant-mirror'}\n",
      "{ 'category': 'byline',\n",
      "  'entities': [ { 'name': 'Sitara Cave',\n",
      "                  'salience': 0.7063267230987549,\n",
      "                  'source': 'merge',\n",
      "                  'type': 'CONSUMER_GOOD'},\n",
      "                { 'name': 'Richard Gagnon',\n",
      "                  'salience': 0.22174805402755737,\n",
      "                  'source': 'merge',\n",
      "                  'type': 'PERSON'},\n",
      "                { 'name': 'Denise King',\n",
      "                  'salience': 0.07192525267601013,\n",
      "                  'source': 'merge',\n",
      "                  'type': 'PERSON'},\n",
      "                { 'name': '2001',\n",
      "                  'salience': 0.0,\n",
      "                  'source': 'merge',\n",
      "                  'type': 'DATE'}],\n",
      "  'grouping': 'exhibits',\n",
      "  'id': 'energy-from-death'}\n",
      "{ 'category': 'byline',\n",
      "  'entities': [ { 'name': 'Frank Oppenheimer',\n",
      "                  'salience': 0.6496447324752808,\n",
      "                  'source': 'merge',\n",
      "                  'type': 'PERSON'},\n",
      "                { 'name': 'Exploratorium',\n",
      "                  'salience': 0.31945350766181946,\n",
      "                  'source': 'merge',\n",
      "                  'type': 'ORGANIZATION'},\n",
      "                { 'name': 'Richard O. Brown',\n",
      "                  'salience': 0.030901756137609482,\n",
      "                  'source': 'merge',\n",
      "                  'type': 'PERSON'},\n",
      "                { 'name': '1975',\n",
      "                  'salience': 0.0,\n",
      "                  'source': 'merge',\n",
      "                  'type': 'DATE'}],\n",
      "  'grouping': 'exhibits',\n",
      "  'id': 'colored-shadows'}\n",
      "{ 'category': 'byline',\n",
      "  'entities': [ { 'name': 'Sebastian Martin',\n",
      "                  'salience': 0.7063267230987549,\n",
      "                  'source': 'merge',\n",
      "                  'type': 'PERSON'},\n",
      "                { 'name': 'Creative Machines',\n",
      "                  'salience': 0.22174805402755737,\n",
      "                  'source': 'merge',\n",
      "                  'type': 'CONSUMER_GOOD'},\n",
      "                { 'name': \"Joe O'Connell\",\n",
      "                  'salience': 0.07192525267601013,\n",
      "                  'source': 'merge',\n",
      "                  'type': 'PERSON'},\n",
      "                { 'name': '2012',\n",
      "                  'salience': 0.0,\n",
      "                  'source': 'merge',\n",
      "                  'type': 'DATE'}],\n",
      "  'grouping': 'exhibits',\n",
      "  'id': 'animation-station'}\n",
      "{ 'category': 'byline',\n",
      "  'entities': [ { 'name': 'Archives',\n",
      "                  'salience': 0.5303553342819214,\n",
      "                  'source': 'merge',\n",
      "                  'type': 'OTHER'},\n",
      "                { 'name': 'Prelinger Library',\n",
      "                  'salience': 0.4696446359157562,\n",
      "                  'source': 'merge',\n",
      "                  'type': 'LOCATION'},\n",
      "                { 'name': '2013',\n",
      "                  'salience': 0.0,\n",
      "                  'source': 'merge',\n",
      "                  'type': 'DATE'}],\n",
      "  'grouping': 'exhibits',\n",
      "  'id': 'observatory-library'}\n",
      "{ 'category': 'byline',\n",
      "  'entities': [ { 'name': 'Frank Oppenheimer',\n",
      "                  'salience': 0.5642622113227844,\n",
      "                  'source': 'merge',\n",
      "                  'type': 'PERSON'},\n",
      "                { 'name': 'Exploratorium',\n",
      "                  'salience': 0.4357377588748932,\n",
      "                  'source': 'merge',\n",
      "                  'type': 'ORGANIZATION'},\n",
      "                { 'name': '1981',\n",
      "                  'salience': 0.0,\n",
      "                  'source': 'merge',\n",
      "                  'type': 'DATE'}],\n",
      "  'grouping': 'exhibits',\n",
      "  'id': 'coupled-pendulums'}\n",
      "{ 'category': 'byline',\n",
      "  'entities': [ { 'name': 'Donation',\n",
      "                  'salience': 0.804345965385437,\n",
      "                  'source': 'merge',\n",
      "                  'type': 'OTHER'},\n",
      "                { 'name': 'NASA Ames',\n",
      "                  'salience': 0.195654034614563,\n",
      "                  'source': 'merge',\n",
      "                  'type': 'ORGANIZATION'},\n",
      "                { 'name': '1969',\n",
      "                  'salience': 0.0,\n",
      "                  'source': 'merge',\n",
      "                  'type': 'DATE'}],\n",
      "  'grouping': 'exhibits',\n",
      "  'id': 'cloud-chamber'}\n",
      "{ 'category': 'byline',\n",
      "  'entities': [ { 'name': 'Frank Oppenheimer',\n",
      "                  'salience': 0.6496447324752808,\n",
      "                  'source': 'merge',\n",
      "                  'type': 'PERSON'},\n",
      "                { 'name': 'Exploratorium',\n",
      "                  'salience': 0.31945350766181946,\n",
      "                  'source': 'merge',\n",
      "                  'type': 'ORGANIZATION'},\n",
      "                { 'name': 'Charles Glorioso',\n",
      "                  'salience': 0.030901756137609482,\n",
      "                  'source': 'merge',\n",
      "                  'type': 'PERSON'},\n",
      "                { 'name': '1970',\n",
      "                  'salience': 0.0,\n",
      "                  'source': 'merge',\n",
      "                  'type': 'DATE'}],\n",
      "  'grouping': 'exhibits',\n",
      "  'id': 'balancing-ball'}\n",
      "{ 'category': 'byline',\n",
      "  'entities': [ { 'name': 'Frank Oppenheimer',\n",
      "                  'salience': 0.5642622113227844,\n",
      "                  'source': 'merge',\n",
      "                  'type': 'PERSON'},\n",
      "                { 'name': 'Exploratorium',\n",
      "                  'salience': 0.4357377588748932,\n",
      "                  'source': 'merge',\n",
      "                  'type': 'ORGANIZATION'},\n",
      "                { 'name': '1980',\n",
      "                  'salience': 0.0,\n",
      "                  'source': 'merge',\n",
      "                  'type': 'DATE'}],\n",
      "  'grouping': 'exhibits',\n",
      "  'id': 'gray-step'}\n",
      "{ 'category': 'byline',\n",
      "  'entities': [ { 'name': 'students',\n",
      "                  'salience': 0.6566137075424194,\n",
      "                  'source': 'gcp',\n",
      "                  'type': 'PERSON'},\n",
      "                { 'name': 'UC Davis Center for Visualization',\n",
      "                  'salience': 0.13556507229804993,\n",
      "                  'source': 'gcp',\n",
      "                  'type': 'ORGANIZATION'},\n",
      "                { 'name': 'staff',\n",
      "                  'salience': 0.11225490272045135,\n",
      "                  'source': 'gcp',\n",
      "                  'type': 'PERSON'},\n",
      "                { 'name': 'Exploratorium',\n",
      "                  'salience': 0.09556632488965988,\n",
      "                  'source': 'gcp',\n",
      "                  'type': 'ORGANIZATION'}],\n",
      "  'grouping': 'exhibits',\n",
      "  'id': 'mapping-migrations'}\n",
      "{ 'category': 'byline',\n",
      "  'entities': [ { 'name': 'Frank Oppenheimer',\n",
      "                  'salience': 0.5642622113227844,\n",
      "                  'source': 'merge',\n",
      "                  'type': 'PERSON'},\n",
      "                { 'name': 'Exploratorium',\n",
      "                  'salience': 0.4357377588748932,\n",
      "                  'source': 'merge',\n",
      "                  'type': 'ORGANIZATION'},\n",
      "                { 'name': '1973',\n",
      "                  'salience': 0.0,\n",
      "                  'source': 'merge',\n",
      "                  'type': 'DATE'}],\n",
      "  'grouping': 'exhibits',\n",
      "  'id': 'blood-cells-in-your-eye'}\n",
      "{ 'category': 'byline',\n",
      "  'entities': [ { 'name': 'Frank Oppenheimer',\n",
      "                  'salience': 0.6496447324752808,\n",
      "                  'source': 'merge',\n",
      "                  'type': 'PERSON'},\n",
      "                { 'name': 'Exploratorium',\n",
      "                  'salience': 0.31945350766181946,\n",
      "                  'source': 'merge',\n",
      "                  'type': 'ORGANIZATION'},\n",
      "                { 'name': 'Richard O. Brown',\n",
      "                  'salience': 0.030901756137609482,\n",
      "                  'source': 'merge',\n",
      "                  'type': 'PERSON'},\n",
      "                { 'name': '1975',\n",
      "                  'salience': 0.0,\n",
      "                  'source': 'merge',\n",
      "                  'type': 'DATE'}],\n",
      "  'grouping': 'exhibits',\n",
      "  'id': 'bird-in-a-cage'}\n",
      "\n",
      "There are 15 items in exhibit_entities_merged with additional byline entity types\n"
     ]
    }
   ],
   "source": [
    "# the entities returned for the byline category should provide the names of the exhibit creators and the date it was created\n",
    "# these are the items which have entities that don't fall into the PERSON or DATE type\n",
    "\n",
    "n = 0\n",
    "for item in exhibit_entities_merged:\n",
    "    if item['category'] == 'byline':\n",
    "        types = [item['entities'][k]['type'] for k in range(len(item['entities']))]\n",
    "        if any(type not in ['PERSON', 'DATE'] for type in types):\n",
    "            pp.pprint(item)\n",
    "            n += 1\n",
    "print('\\nThere are {} items in exhibit_entities_merged with additional byline entity types'.format(n))"
   ],
   "metadata": {
    "collapsed": false,
    "pycharm": {
     "name": "#%%\n"
    }
   }
  },
  {
   "cell_type": "code",
   "execution_count": 414,
   "outputs": [],
   "source": [
    "# export merged exhibit entities\n",
    "\n",
    "with open('data/entities/exhibits_merge_name.json', 'w') as f:\n",
    "    json.dump(exhibit_entities_merged, f)"
   ],
   "metadata": {
    "collapsed": false,
    "pycharm": {
     "name": "#%%\n"
    }
   }
  },
  {
   "cell_type": "code",
   "execution_count": 415,
   "outputs": [],
   "source": [
    "# import gallery-level data\n",
    "\n",
    "with open('data/scraped_data/galleries.json', 'r') as f:\n",
    "    galleries = json.load(f)\n",
    "\n",
    "with open('data/entities/galleries.json', 'r') as f:\n",
    "    gallery_entities = json.load(f)"
   ],
   "metadata": {
    "collapsed": false,
    "pycharm": {
     "name": "#%%\n"
    }
   }
  },
  {
   "cell_type": "code",
   "execution_count": 416,
   "outputs": [
    {
     "name": "stdout",
     "output_type": "stream",
     "text": [
      "Number of galleries: 6\n",
      "\n",
      "Gallery fields: ['id', 'title', 'tagline', 'description', 'curator_url', 'curator_statement']\n",
      "\n",
      "Random gallery: www.exploratorium.edu/visit/magnetic-fluid-patterns\n",
      "Random gallery:\n",
      "{ 'curator_statement': 'This second-floor, indoor/outdoor exhibition space '\n",
      "                       'features spectacular views of the Bay and San '\n",
      "                       'Francisco’s northern waterfront, as well as its urban, '\n",
      "                       'downtown cityscape. The Fisher Bay Observatory '\n",
      "                       'Gallery  and Terrace use these views as an entry point '\n",
      "                       'for investigations of the history and dynamic '\n",
      "                       'processes in the local landscape, and the human '\n",
      "                       'impact. The exhibits, artworks, and instruments here '\n",
      "                       'probe the environment from multiple perspectives, such '\n",
      "                       'as physical and geographic sciences, ecology, '\n",
      "                       'astronomy, history, and contemporary experience. A '\n",
      "                       'small browsing library of maps and books from the past '\n",
      "                       'and present helps visitors explore ideas that shape '\n",
      "                       'the Bay Area. The Fisher Bay Observatory Gallery also '\n",
      "                       'introduces visitors to the process of observation, and '\n",
      "                       'the tools and methods scientists use to gather '\n",
      "                       'information about the world around us. Some '\n",
      "                       'instruments like cameras and telescopes help us '\n",
      "                       'observe the landscape directly, while other exhibits '\n",
      "                       'present live or archived data or, visualizations, and '\n",
      "                       'eventually video streams, creating a picture of our '\n",
      "                       'surroundings that we otherwise might never see. Susan '\n",
      "                       'Schwartzenberg , Curator',\n",
      "  'curator_url': '/visit/bay-observatory-gallery/curator-statement',\n",
      "  'description': 'Natural and human forces interact to create the dynamic '\n",
      "                 'landscape surrounding us. Learn to uncover the stories '\n",
      "                 'embedded in a place by directly observing the geography, '\n",
      "                 'history, and ecology of the San Francisco Bay region.',\n",
      "  'id': 'gallery-6',\n",
      "  'tagline': 'Uncover the history, geography, and ecology of the Bay Area.',\n",
      "  'title': 'Fisher Bay Observatory Gallery 6: Observing Landscapes'}\n"
     ]
    }
   ],
   "source": [
    "# take a peek at gallery data\n",
    "\n",
    "print('Number of galleries: {}'.format(len(galleries)))\n",
    "\n",
    "gallery_fields = list(galleries[0].keys())\n",
    "print('\\nGallery fields: {}'.format(gallery_fields))\n",
    "\n",
    "N = randrange(len(galleries))\n",
    "rand_gallery_url = 'www.exploratorium.edu/visit/' + exhibit_entities[N]['id']   # WHAT'S THE CORRECT SYNTAX FOR THIS??\n",
    "print('\\nRandom gallery: {}'.format(rand_gallery_url))\n",
    "print('Random gallery:')\n",
    "pp.pprint(galleries[N])"
   ],
   "metadata": {
    "collapsed": false,
    "pycharm": {
     "name": "#%%\n"
    }
   }
  },
  {
   "cell_type": "code",
   "execution_count": 417,
   "outputs": [
    {
     "name": "stdout",
     "output_type": "stream",
     "text": [
      "Number of gallery entity items: 18\n",
      "\n",
      "Gallery entity fields: ['id', 'grouping', 'category', 'entities']\n",
      "\n",
      "Random gallery:www.exploratorium.edu/exhibits/gallery-3\n",
      "Random gallery entities:\n",
      "{ 'category': 'description',\n",
      "  'entities': [ { 'name': 'light',\n",
      "                  'salience': 0.31979408860206604,\n",
      "                  'type': 'OTHER'},\n",
      "                { 'name': 'eyes',\n",
      "                  'salience': 0.2672935426235199,\n",
      "                  'type': 'OTHER'},\n",
      "                { 'name': 'aspect',\n",
      "                  'salience': 0.14684730768203735,\n",
      "                  'type': 'OTHER'},\n",
      "                { 'name': 'world',\n",
      "                  'salience': 0.07965520769357681,\n",
      "                  'type': 'LOCATION'},\n",
      "                { 'name': 'phenomena',\n",
      "                  'salience': 0.05587542802095413,\n",
      "                  'type': 'OTHER'},\n",
      "                { 'name': 'way',\n",
      "                  'salience': 0.04601622745394707,\n",
      "                  'type': 'OTHER'},\n",
      "                { 'name': 'light',\n",
      "                  'salience': 0.04466899111866951,\n",
      "                  'type': 'OTHER'},\n",
      "                { 'name': 'understanding',\n",
      "                  'salience': 0.020776089280843735,\n",
      "                  'type': 'OTHER'},\n",
      "                { 'name': 'process',\n",
      "                  'salience': 0.019073106348514557,\n",
      "                  'type': 'OTHER'},\n",
      "                {'name': 'one', 'salience': 0.0, 'type': 'NUMBER'}],\n",
      "  'grouping': 'galleries',\n",
      "  'id': 'gallery-3'}\n"
     ]
    }
   ],
   "source": [
    "# take a peek at gallery entity data\n",
    "\n",
    "print('Number of gallery entity items: {}'.format(len(gallery_entities)))\n",
    "\n",
    "gallery_entity_fields = list(gallery_entities[0].keys())\n",
    "print('\\nGallery entity fields: {}'.format(gallery_entity_fields))\n",
    "\n",
    "N = randrange(len(gallery_entities))\n",
    "rand_gallery_entities_url = 'www.exploratorium.edu/exhibits/' + gallery_entities[N]['id']   # SYNTAX??\n",
    "print('\\nRandom gallery:{}'.format(rand_gallery_entities_url))\n",
    "print('Random gallery entities:')\n",
    "pp.pprint(gallery_entities[N])"
   ],
   "metadata": {
    "collapsed": false,
    "pycharm": {
     "name": "#%%\n"
    }
   }
  },
  {
   "cell_type": "code",
   "execution_count": 418,
   "outputs": [],
   "source": [
    "# add a 'source' key to the gallery entity data, and assign a value of 'gcp' to the exisiting entity items\n",
    "\n",
    "for item in gallery_entities:\n",
    "    for entity in item['entities']:\n",
    "        entity.update({'source': 'gcp'})"
   ],
   "metadata": {
    "collapsed": false,
    "pycharm": {
     "name": "#%%\n"
    }
   }
  },
  {
   "cell_type": "code",
   "execution_count": 419,
   "outputs": [
    {
     "name": "stdout",
     "output_type": "stream",
     "text": [
      "There are 0 undefined entity salience values in gallery_entities\n",
      "There are 0 undefined entity type values in gallery_entities\n"
     ]
    }
   ],
   "source": [
    "# analyze salience and type of entities\n",
    "\n",
    "entity_sublists = [item['entities'] for item in gallery_entities]\n",
    "entities = [item for sublist in entity_sublists for item in sublist]\n",
    "\n",
    "saliences = [entity['salience'] for entity in entities]\n",
    "saliences = pd.Series(saliences)\n",
    "undef_salience = pd.isna(saliences).sum()\n",
    "\n",
    "print('There are {} undefined entity salience values in gallery_entities'.format(undef_salience))\n",
    "\n",
    "types = [entity['type'] for entity in entities]\n",
    "types = pd.Series(types)\n",
    "undef_type = pd.isna(types).sum()\n",
    "\n",
    "print('There are {} undefined entity type values in gallery_entities'.format(undef_type))"
   ],
   "metadata": {
    "collapsed": false,
    "pycharm": {
     "name": "#%%\n"
    }
   }
  },
  {
   "cell_type": "code",
   "execution_count": 420,
   "outputs": [
    {
     "data": {
      "text/plain": "<Figure size 640x480 with 1 Axes>",
      "image/png": "[encoded data removed]"
     },
     "metadata": {},
     "output_type": "display_data"
    }
   ],
   "source": [
    "ax = types.value_counts().plot(kind='bar')\n",
    "ax.set_title('Frequency of Entity Type for Gallery Data')\n",
    "plt.show()"
   ],
   "metadata": {
    "collapsed": false,
    "pycharm": {
     "name": "#%%\n"
    }
   }
  },
  {
   "cell_type": "code",
   "execution_count": 421,
   "outputs": [
    {
     "data": {
      "text/plain": "<Figure size 640x480 with 1 Axes>",
      "image/png": "[encoded data removed]"
     },
     "metadata": {},
     "output_type": "display_data"
    },
    {
     "name": "stdout",
     "output_type": "stream",
     "text": [
      "6 entities have salience = 0\n",
      "0 entities have salience = 1\n"
     ]
    }
   ],
   "source": [
    "plt.hist(saliences, bins=100)\n",
    "plt.title('Distribution of Entity Salience for Gallery Data')\n",
    "plt.show()\n",
    "\n",
    "low_salience = pd.Series([np.abs(salience) < 0.0001 for salience in saliences]).sum()\n",
    "high_salience = pd.Series([np.abs(salience) > 0.9999 for salience in saliences]).sum()\n",
    "print('{} entities have salience = 0'.format(low_salience))\n",
    "print('{} entities have salience = 1'.format(high_salience))"
   ],
   "metadata": {
    "collapsed": false,
    "pycharm": {
     "name": "#%%\n"
    }
   }
  },
  {
   "cell_type": "code",
   "execution_count": 422,
   "outputs": [
    {
     "name": "stdout",
     "output_type": "stream",
     "text": [
      "There are 8 items in gallery_entities with duplicated entity names:\n",
      "\n",
      "Random such item:\n",
      "\n",
      "{ 'category': 'curator_statement',\n",
      "  'entities': [ { 'name': 'appreciation',\n",
      "                  'salience': 0.16007357835769653,\n",
      "                  'source': 'gcp',\n",
      "                  'type': 'OTHER'},\n",
      "                { 'name': 'visitors',\n",
      "                  'salience': 0.11568005383014679,\n",
      "                  'source': 'gcp',\n",
      "                  'type': 'PERSON'},\n",
      "                { 'name': 'Gallery',\n",
      "                  'salience': 0.08085287362337112,\n",
      "                  'source': 'gcp',\n",
      "                  'type': 'OTHER'},\n",
      "                { 'name': 'world',\n",
      "                  'salience': 0.07394825667142868,\n",
      "                  'source': 'gcp',\n",
      "                  'type': 'LOCATION'},\n",
      "                { 'name': 'ways',\n",
      "                  'salience': 0.0651792362332344,\n",
      "                  'source': 'gcp',\n",
      "                  'type': 'OTHER'},\n",
      "                { 'name': 'laboratory',\n",
      "                  'salience': 0.04920116811990738,\n",
      "                  'source': 'gcp',\n",
      "                  'type': 'LOCATION'},\n",
      "                { 'name': 'Microscope Imaging Station',\n",
      "                  'salience': 0.04075712710618973,\n",
      "                  'source': 'gcp',\n",
      "                  'type': 'ORGANIZATION'},\n",
      "                { 'name': 'methods',\n",
      "                  'salience': 0.0320647656917572,\n",
      "                  'source': 'gcp',\n",
      "                  'type': 'OTHER'},\n",
      "                { 'name': 'tools',\n",
      "                  'salience': 0.03167722001671791,\n",
      "                  'source': 'gcp',\n",
      "                  'type': 'OTHER'},\n",
      "                { 'name': 'Living Liquid',\n",
      "                  'salience': 0.027218954637646675,\n",
      "                  'source': 'gcp',\n",
      "                  'type': 'OTHER'},\n",
      "                { 'name': 'space',\n",
      "                  'salience': 0.026321211829781532,\n",
      "                  'source': 'gcp',\n",
      "                  'type': 'LOCATION'},\n",
      "                { 'name': 'organisms',\n",
      "                  'salience': 0.017879869788885117,\n",
      "                  'source': 'gcp',\n",
      "                  'type': 'OTHER'},\n",
      "                { 'name': 'gallery',\n",
      "                  'salience': 0.01215806882828474,\n",
      "                  'source': 'gcp',\n",
      "                  'type': 'LOCATION'},\n",
      "                { 'name': 'scales',\n",
      "                  'salience': 0.012066556140780449,\n",
      "                  'source': 'gcp',\n",
      "                  'type': 'OTHER'},\n",
      "                { 'name': 'ecosystems',\n",
      "                  'salience': 0.012066556140780449,\n",
      "                  'source': 'gcp',\n",
      "                  'type': 'OTHER'},\n",
      "                { 'name': 'things',\n",
      "                  'salience': 0.012066556140780449,\n",
      "                  'source': 'gcp',\n",
      "                  'type': 'OTHER'},\n",
      "                { 'name': 'processes',\n",
      "                  'salience': 0.012066556140780449,\n",
      "                  'source': 'gcp',\n",
      "                  'type': 'OTHER'},\n",
      "                { 'name': 'exhibits',\n",
      "                  'salience': 0.01068914495408535,\n",
      "                  'source': 'gcp',\n",
      "                  'type': 'OTHER'},\n",
      "                { 'name': 'contributions',\n",
      "                  'salience': 0.0106211481615901,\n",
      "                  'source': 'gcp',\n",
      "                  'type': 'OTHER'},\n",
      "                { 'name': 'exhibits',\n",
      "                  'salience': 0.010115290991961956,\n",
      "                  'source': 'gcp',\n",
      "                  'type': 'OTHER'},\n",
      "                { 'name': 'organisms',\n",
      "                  'salience': 0.010115290991961956,\n",
      "                  'source': 'gcp',\n",
      "                  'type': 'OTHER'},\n",
      "                { 'name': 'exhibit area',\n",
      "                  'salience': 0.009568111039698124,\n",
      "                  'source': 'gcp',\n",
      "                  'type': 'LOCATION'},\n",
      "                { 'name': 'section',\n",
      "                  'salience': 0.009477335028350353,\n",
      "                  'source': 'gcp',\n",
      "                  'type': 'WORK_OF_ART'},\n",
      "                { 'name': 'visitors',\n",
      "                  'salience': 0.009424231015145779,\n",
      "                  'source': 'gcp',\n",
      "                  'type': 'PERSON'},\n",
      "                { 'name': 'organisms',\n",
      "                  'salience': 0.009338646195828915,\n",
      "                  'source': 'gcp',\n",
      "                  'type': 'OTHER'},\n",
      "                { 'name': 'Jennifer Frazier',\n",
      "                  'salience': 0.008814302273094654,\n",
      "                  'source': 'gcp',\n",
      "                  'type': 'PERSON'},\n",
      "                { 'name': 'Kristina Yu',\n",
      "                  'salience': 0.008814302273094654,\n",
      "                  'source': 'gcp',\n",
      "                  'type': 'PERSON'},\n",
      "                { 'name': 'microscopes',\n",
      "                  'salience': 0.008542858064174652,\n",
      "                  'source': 'gcp',\n",
      "                  'type': 'OTHER'},\n",
      "                { 'name': 'development',\n",
      "                  'salience': 0.008542858064174652,\n",
      "                  'source': 'gcp',\n",
      "                  'type': 'OTHER'},\n",
      "                { 'name': 'communities',\n",
      "                  'salience': 0.008108112961053848,\n",
      "                  'source': 'gcp',\n",
      "                  'type': 'PERSON'},\n",
      "                { 'name': 'Life Sciences Laboratory',\n",
      "                  'salience': 0.008088752627372742,\n",
      "                  'source': 'gcp',\n",
      "                  'type': 'ORGANIZATION'},\n",
      "                { 'name': 'stem cell biology',\n",
      "                  'salience': 0.007505652029067278,\n",
      "                  'source': 'gcp',\n",
      "                  'type': 'OTHER'},\n",
      "                { 'name': 'aspects',\n",
      "                  'salience': 0.007505652029067278,\n",
      "                  'source': 'gcp',\n",
      "                  'type': 'OTHER'},\n",
      "                { 'name': 'Bay',\n",
      "                  'salience': 0.006514895707368851,\n",
      "                  'source': 'gcp',\n",
      "                  'type': 'LOCATION'},\n",
      "                { 'name': 'experiences',\n",
      "                  'salience': 0.006264694966375828,\n",
      "                  'source': 'gcp',\n",
      "                  'type': 'OTHER'},\n",
      "                { 'name': 'look',\n",
      "                  'salience': 0.006242590025067329,\n",
      "                  'source': 'gcp',\n",
      "                  'type': 'OTHER'},\n",
      "                { 'name': 'features',\n",
      "                  'salience': 0.005629964638501406,\n",
      "                  'source': 'gcp',\n",
      "                  'type': 'OTHER'},\n",
      "                { 'name': 'end',\n",
      "                  'salience': 0.005619308911263943,\n",
      "                  'source': 'gcp',\n",
      "                  'type': 'LOCATION'},\n",
      "                { 'name': 'view',\n",
      "                  'salience': 0.005619308911263943,\n",
      "                  'source': 'gcp',\n",
      "                  'type': 'OTHER'},\n",
      "                { 'name': 'A Cells and Development',\n",
      "                  'salience': 0.0055075096897780895,\n",
      "                  'source': 'gcp',\n",
      "                  'type': 'OTHER'},\n",
      "                { 'name': 'gallery',\n",
      "                  'salience': 0.004909955430775881,\n",
      "                  'source': 'gcp',\n",
      "                  'type': 'LOCATION'},\n",
      "                { 'name': 'behaviors',\n",
      "                  'salience': 0.004739867523312569,\n",
      "                  'source': 'gcp',\n",
      "                  'type': 'OTHER'},\n",
      "                { 'name': 'world',\n",
      "                  'salience': 0.0044785658828914165,\n",
      "                  'source': 'gcp',\n",
      "                  'type': 'LOCATION'},\n",
      "                { 'name': 'interaction',\n",
      "                  'salience': 0.0039340294897556305,\n",
      "                  'source': 'gcp',\n",
      "                  'type': 'OTHER'},\n",
      "                { 'name': 'Pier 15',\n",
      "                  'salience': 0.0033224408980458975,\n",
      "                  'source': 'gcp',\n",
      "                  'type': 'LOCATION'},\n",
      "                { 'name': 'plankton',\n",
      "                  'salience': 0.0029045308474451303,\n",
      "                  'source': 'gcp',\n",
      "                  'type': 'OTHER'},\n",
      "                { 'name': 'Life',\n",
      "                  'salience': 0.002811692887917161,\n",
      "                  'source': 'gcp',\n",
      "                  'type': 'OTHER'},\n",
      "                { 'name': 'species',\n",
      "                  'salience': 0.0024751718156039715,\n",
      "                  'source': 'gcp',\n",
      "                  'type': 'OTHER'},\n",
      "                { 'name': 'ocean',\n",
      "                  'salience': 0.0024751718156039715,\n",
      "                  'source': 'gcp',\n",
      "                  'type': 'LOCATION'},\n",
      "                { 'name': '4',\n",
      "                  'salience': 0.0,\n",
      "                  'source': 'gcp',\n",
      "                  'type': 'NUMBER'},\n",
      "                { 'name': '15',\n",
      "                  'salience': 0.0,\n",
      "                  'source': 'gcp',\n",
      "                  'type': 'NUMBER'}],\n",
      "  'grouping': 'galleries',\n",
      "  'id': 'gallery-4'}\n"
     ]
    }
   ],
   "source": [
    "# identify items in gallery_entities with duplicate entity names\n",
    "\n",
    "num_dupes = 0\n",
    "for item in gallery_entities:\n",
    "    num_dupes += has_dupes(item)\n",
    "\n",
    "print('There are {} items in gallery_entities with duplicated entity names:\\n'.format(num_dupes))\n",
    "N = randrange(num_dupes)\n",
    "dupes = [item for item in gallery_entities if has_dupes(item)]\n",
    "print('Random such item:\\n')\n",
    "pp.pprint(dupes[N])"
   ],
   "metadata": {
    "collapsed": false,
    "pycharm": {
     "name": "#%%\n"
    }
   }
  },
  {
   "cell_type": "code",
   "execution_count": 423,
   "outputs": [
    {
     "name": "stdout",
     "output_type": "stream",
     "text": [
      "There are 0 items in gallery_entities_merged with duplicated entity names\n"
     ]
    }
   ],
   "source": [
    "# merge gallery extity data on entity name\n",
    "\n",
    "gallery_entities_merged = []\n",
    "for item in gallery_entities:\n",
    "    merged = merge_entities(item)\n",
    "    gallery_entities_merged.append(merged)\n",
    "\n",
    "num_dupes = 0\n",
    "for item in gallery_entities_merged:\n",
    "    num_dupes += has_dupes(item)\n",
    "\n",
    "print('There are {} items in gallery_entities_merged with duplicated entity names'.format(num_dupes))"
   ],
   "metadata": {
    "collapsed": false,
    "pycharm": {
     "name": "#%%\n"
    }
   }
  },
  {
   "cell_type": "code",
   "execution_count": 424,
   "outputs": [],
   "source": [
    "# export merged gallery entities\n",
    "\n",
    "with open('data/entities/galleries_merge_name.json', 'w') as f:\n",
    "    json.dump(gallery_entities_merged, f)"
   ],
   "metadata": {
    "collapsed": false,
    "pycharm": {
     "name": "#%%\n"
    }
   }
  }
 ],
 "metadata": {
  "kernelspec": {
   "display_name": "docentenv",
   "language": "python",
   "name": "docentenv"
  },
  "language_info": {
   "codemirror_mode": {
    "name": "ipython",
    "version": 3
   },
   "file_extension": ".py",
   "mimetype": "text/x-python",
   "name": "python",
   "nbconvert_exporter": "python",
   "pygments_lexer": "ipython3",
   "version": "3.10.4"
  }
 },
 "nbformat": 4,
 "nbformat_minor": 5
}