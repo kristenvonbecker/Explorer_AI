{
 "cells": [
  {
   "cell_type": "code",
   "execution_count": 21,
   "metadata": {
    "collapsed": true,
    "pycharm": {
     "name": "#%%\n"
    }
   },
   "outputs": [],
   "source": [
    "from google.cloud import language_v1\n",
    "import os\n",
    "import json"
   ]
  },
  {
   "cell_type": "code",
   "execution_count": 22,
   "outputs": [],
   "source": [
    "os.environ[\"GOOGLE_APPLICATION_CREDENTIALS\"] = '../Keys/exploratorium-docent-ai-2ea410926936.json'\n",
    "client = language_v1.LanguageServiceClient()\n",
    "type_ = language_v1.Document.Type.PLAIN_TEXT\n",
    "language = \"en\"\n",
    "encoding_type = language_v1.EncodingType.UTF8"
   ],
   "metadata": {
    "collapsed": false,
    "pycharm": {
     "name": "#%%\n"
    }
   }
  },
  {
   "cell_type": "code",
   "execution_count": 23,
   "outputs": [],
   "source": [
    "def get_entities(grouping, fields):\n",
    "    this_grouping_analysis = []\n",
    "\n",
    "    for field in fields:\n",
    "        path = os.path.join('data/split_data', grouping, field)\n",
    "\n",
    "        this_field_analysis =[]\n",
    "\n",
    "        for file in os.listdir(path):\n",
    "            if file.startswith('.'):\n",
    "                continue\n",
    "\n",
    "            this_file_analysis = {}\n",
    "\n",
    "            file_path = os.path.join(path, file)\n",
    "            with open(file_path, 'r') as f:\n",
    "                text_content = f.read()\n",
    "\n",
    "            document = {'content': text_content, 'type_': type_, 'language': language}\n",
    "            response = client.analyze_entities(request={'document': document, 'encoding_type': encoding_type})\n",
    "\n",
    "            entities = []\n",
    "            for entity in response.entities:\n",
    "                this_entity = {}\n",
    "                this_entity['name'] = entity.name\n",
    "                this_entity['type'] = language_v1.Entity.Type(entity.type_).name\n",
    "                this_entity['salience'] = entity.salience\n",
    "                entities.append(this_entity)\n",
    "\n",
    "            id = file.split('.')[0]\n",
    "            this_file_analysis['id'] = id\n",
    "            this_file_analysis['grouping'] = grouping\n",
    "            this_file_analysis['category'] = field\n",
    "            this_file_analysis['entities'] = entities\n",
    "\n",
    "            this_field_analysis.append(this_file_analysis)\n",
    "\n",
    "        this_grouping_analysis += this_field_analysis\n",
    "\n",
    "    return this_grouping_analysis"
   ],
   "metadata": {
    "collapsed": false,
    "pycharm": {
     "name": "#%%\n"
    }
   }
  },
  {
   "cell_type": "code",
   "execution_count": 24,
   "outputs": [],
   "source": [
    "exhibit_entities = get_entities('exhibits',\n",
    "                                       ['byline', 'tagline', 'description', 'whats_going_on',\n",
    "                                        'going_further', 'details'])"
   ],
   "metadata": {
    "collapsed": false,
    "pycharm": {
     "name": "#%%\n"
    }
   }
  },
  {
   "cell_type": "code",
   "execution_count": 25,
   "outputs": [],
   "source": [
    "path = 'data/entities'\n",
    "\n",
    "if not os.path.exists(path):\n",
    "                os.makedirs(path)\n",
    "\n",
    "exhibits_filepath = os.path.join(path, 'exhibits.json')\n",
    "\n",
    "with open(exhibits_filepath, \"w\") as f:\n",
    "    f.write(json.dumps(exhibit_entities, indent=2))"
   ],
   "metadata": {
    "collapsed": false,
    "pycharm": {
     "name": "#%%\n"
    }
   }
  },
  {
   "cell_type": "code",
   "execution_count": 26,
   "outputs": [],
   "source": [
    "gallery_entities = get_entities('galleries', ['tagline', 'description', 'curator_statement'])"
   ],
   "metadata": {
    "collapsed": false,
    "pycharm": {
     "name": "#%%\n"
    }
   }
  },
  {
   "cell_type": "code",
   "execution_count": 27,
   "outputs": [],
   "source": [
    "path = 'data/entities'\n",
    "\n",
    "if not os.path.exists(path):\n",
    "                os.makedirs(path)\n",
    "\n",
    "galleries_filepath = os.path.join(path, 'galleries.json')\n",
    "\n",
    "with open(galleries_filepath, \"w\") as f:\n",
    "    f.write(json.dumps(gallery_entities, indent=2))"
   ],
   "metadata": {
    "collapsed": false,
    "pycharm": {
     "name": "#%%\n"
    }
   }
  }
 ],
 "metadata": {
  "kernelspec": {
   "name": "docentenv",
   "language": "python",
   "display_name": "docentenv"
  },
  "language_info": {
   "codemirror_mode": {
    "name": "ipython",
    "version": 2
   },
   "file_extension": ".py",
   "mimetype": "text/x-python",
   "name": "python",
   "nbconvert_exporter": "python",
   "pygments_lexer": "ipython2",
   "version": "2.7.6"
  }
 },
 "nbformat": 4,
 "nbformat_minor": 0
}